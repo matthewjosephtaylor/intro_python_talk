{
 "cells": [
  {
   "cell_type": "markdown",
   "metadata": {
    "slideshow": {
     "slide_type": "slide"
    }
   },
   "source": [
    "# Intro to Python\n",
    "\n",
    "![](https://www.python.org/static/community_logos/python-logo-master-v3-TM.png)\n",
    "\n",
    "Blame: Matt Taylor\n",
    "\n",
    "Jan 17th 2020\n",
    "\n",
    "\n",
    "\n",
    "\n",
    "\n",
    "\n",
    "\n",
    "\n",
    "\n",
    "\n",
    "\n",
    "\n",
    "\n",
    "\n",
    "\n",
    "\n",
    "\n"
   ]
  },
  {
   "cell_type": "markdown",
   "metadata": {
    "slideshow": {
     "slide_type": "slide"
    }
   },
   "source": [
    "# Install Python (Mac)\n",
    "\n",
    "If you are on a Mac install Homebrew: https://brew.sh/\n",
    "\n",
    "Then:\n",
    "\n",
    "```\n",
    "brew install python\n",
    "```\n",
    "\n",
    "Mac hard-mode: https://www.python.org/downloads/mac-osx/\n",
    "\n",
    "- Recommend using 3.7 or higher\n",
    "- DO NOT RECOMMEND replacing existing python that comes with OSX\n",
    "\n",
    "Gotcha: The version of python on OSX is likely to be 2.7 which is an older version and is NOT fully backwards compatible with python 3."
   ]
  },
  {
   "cell_type": "markdown",
   "metadata": {
    "slideshow": {
     "slide_type": "slide"
    }
   },
   "source": [
    "# Install Python (Windows)\n",
    "\n",
    "Windows hard-mode:\n",
    "https://www.python.org/downloads/windows/\n",
    "\n",
    "Recommend using the 'executable installer' and accepting the defaults\n"
   ]
  },
  {
   "cell_type": "markdown",
   "metadata": {
    "slideshow": {
     "slide_type": "slide"
    }
   },
   "source": [
    "# Pipenv\n",
    "\n",
    "- Why: Enivornments are hard\n",
    "- Officially supported by Python\n",
    " - https://packaging.python.org/guides/tool-recommendations/\n",
    "- Modern alternative to `setup.py / requriements.txt` (older way of specifying dependencies)\n",
    "- Use instead of `pip` where directions say use `pip` to install something"
   ]
  },
  {
   "cell_type": "markdown",
   "metadata": {
    "slideshow": {
     "slide_type": "subslide"
    }
   },
   "source": [
    "## Virtualenv\n",
    "\n",
    "Python virtual environment\n",
    "\n",
    "- Free with Pipenv\n",
    "- Contains\n",
    "  - Python executable (interpreter)\n",
    "  - Installed Python Libraries\n",
    "- Files Located in user home folder\n",
    "  - `~/.local/share` on Mac\n",
    "  - `%HOME%\\appdata\\local` on Windows "
   ]
  },
  {
   "cell_type": "markdown",
   "metadata": {
    "slideshow": {
     "slide_type": "subslide"
    }
   },
   "source": [
    "## Pipfile\n",
    "\n",
    "- Contains library dependency version info\n",
    "  - Seperate Dev and Production packages\n",
    "- Python.lock\n",
    "  - hash level\n",
    "- replacement for older `requriements.txt` file\n",
    "  - pipenv will use `requirements.txt` if available for older/existing projects\n",
    "- Not required to hand-edit but easy to do so\n",
    "  - `pipenv (un)install` will take care of managing Pipfile for simple package install/removal"
   ]
  },
  {
   "cell_type": "markdown",
   "metadata": {
    "slideshow": {
     "slide_type": "slide"
    }
   },
   "source": [
    "# Editors\n",
    "- Python has syntactically significant whitespace\n",
    "  - Choose life. Choose an editor with Python support.\n",
    "\n",
    "Top Recommendations:\n",
    "- VS Code\n",
    "- IntelliJ\n",
    "- PyCharm\n",
    "- Online Web Editors\n"
   ]
  },
  {
   "cell_type": "markdown",
   "metadata": {
    "slideshow": {
     "slide_type": "subslide"
    }
   },
   "source": [
    "# VS Code\n",
    "- Recommend `ms-python` MS Official Python Plugin\n",
    "  - https://marketplace.visualstudio.com/items?itemName=ms-python.python\n",
    "- Recommend using the `flake8` linter\n",
    "  - Better syntax checking\n",
    "  - https://code.visualstudio.com/docs/python/linting#_flake8"
   ]
  },
  {
   "cell_type": "markdown",
   "metadata": {
    "slideshow": {
     "slide_type": "subslide"
    }
   },
   "source": [
    "# IntelliJ\n",
    "- Preferences → Plugins → Marketplace (type) 'Python' (corresponds to PyCharm capabilities)\n",
    "- Setup Existing pipenv project: https://www.jetbrains.com/help/idea/pipenv.html#pipenv-existing-project\n",
    "  - Run pipenv install from command line before setting up in IntelliJ (maybe not needed but makes sure that the pipenv virtual environment from terminal shell path is used)\n",
    "  - Choose SDK and IntelliJ will automagically setup pipenv interpreter previously installed for project\n"
   ]
  },
  {
   "cell_type": "markdown",
   "metadata": {
    "slideshow": {
     "slide_type": "subslide"
    }
   },
   "source": [
    "# PyCharm\n",
    "- Community Version is free\n",
    "- For Python and simple web ONLY\n",
    "- If you already have IntelliJ recommend using the Python plugin (more or less same)"
   ]
  },
  {
   "cell_type": "markdown",
   "metadata": {
    "slideshow": {
     "slide_type": "slide"
    }
   },
   "source": [
    "# Online Web Editors\n",
    "\n",
    "So many!!! Find a cool one please share!\n",
    "\n",
    "- https://repl.it/languages/python3\n",
    "  - Easy share by URL\n",
    "  - Good code completion\n",
    "\n",
    "- https://trinket.io/python\n",
    "  - HTML / web focused\n",
    "  - Easy share by URL\n",
    "  \n",
    "- https://jupyter.org/try\n",
    "  - Online Jupyter Notebook"
   ]
  },
  {
   "cell_type": "markdown",
   "metadata": {
    "slideshow": {
     "slide_type": "slide"
    }
   },
   "source": [
    "# Hello World\n",
    "\n",
    "Humble beginings..."
   ]
  },
  {
   "cell_type": "code",
   "execution_count": 1,
   "metadata": {
    "slideshow": {
     "slide_type": "fragment"
    }
   },
   "outputs": [
    {
     "name": "stdout",
     "output_type": "stream",
     "text": [
      "hello class\n"
     ]
    }
   ],
   "source": [
    "print(\"hello class\")"
   ]
  },
  {
   "cell_type": "markdown",
   "metadata": {
    "slideshow": {
     "slide_type": "slide"
    }
   },
   "source": [
    "# Comments\n",
    "Talking to fellow humans direclty from time to time is important.\n"
   ]
  },
  {
   "cell_type": "code",
   "execution_count": null,
   "metadata": {
    "slideshow": {
     "slide_type": "fragment"
    }
   },
   "outputs": [],
   "source": [
    "# I think the computer knows we are talking about it"
   ]
  },
  {
   "cell_type": "code",
   "execution_count": null,
   "metadata": {
    "slideshow": {
     "slide_type": "fragment"
    }
   },
   "outputs": [],
   "source": [
    "\"\"\"\n",
    "Triple-quotes for multiline comments\n",
    "\n",
    "because some things need more room\n",
    "\n",
    "# yes this works too, as does \"this\"\n",
    "\"\"\""
   ]
  },
  {
   "cell_type": "code",
   "execution_count": null,
   "metadata": {
    "slideshow": {
     "slide_type": "fragment"
    }
   },
   "outputs": [],
   "source": [
    "'''\n",
    "Triple-single also works\n",
    "So have \"\"\" embeded in a comment about comments\n",
    "'''"
   ]
  },
  {
   "cell_type": "markdown",
   "metadata": {
    "slideshow": {
     "slide_type": "slide"
    }
   },
   "source": [
    "# Comments + Unix = Awesome\n",
    "Run a Python script in context of current pipenv enviornment"
   ]
  },
  {
   "cell_type": "code",
   "execution_count": 5,
   "metadata": {
    "slideshow": {
     "slide_type": "fragment"
    }
   },
   "outputs": [
    {
     "name": "stdout",
     "output_type": "stream",
     "text": [
      "The current time is 2020-01-17 15:25:38.965055\n"
     ]
    }
   ],
   "source": [
    "#!/usr/bin/env pipenv run python\n",
    "\n",
    "from datetime import datetime\n",
    "\n",
    "\n",
    "# standard boilerplate for 'main' function\n",
    "if __name__ == '__main__':\n",
    "    print(\"The current time is {}\".format(datetime.now()))"
   ]
  },
  {
   "cell_type": "markdown",
   "metadata": {
    "slideshow": {
     "slide_type": "slide"
    }
   },
   "source": [
    "# Finding help in Docstrings\n",
    "- The first comment in a class, module, function, or method\n",
    "- Convention to use triple-single for single-line docstring\n",
    "- `help()` is always available"
   ]
  },
  {
   "cell_type": "code",
   "execution_count": 7,
   "metadata": {
    "slideshow": {
     "slide_type": "fragment"
    }
   },
   "outputs": [
    {
     "name": "stdout",
     "output_type": "stream",
     "text": [
      "Help on built-in function print in module builtins:\n",
      "\n",
      "print(...)\n",
      "    print(value, ..., sep=' ', end='\\n', file=sys.stdout, flush=False)\n",
      "    \n",
      "    Prints the values to a stream, or to sys.stdout by default.\n",
      "    Optional keyword arguments:\n",
      "    file:  a file-like object (stream); defaults to the current sys.stdout.\n",
      "    sep:   string inserted between values, default a space.\n",
      "    end:   string appended after the last value, default a newline.\n",
      "    flush: whether to forcibly flush the stream.\n",
      "\n"
     ]
    }
   ],
   "source": [
    "def simple_print(a):\n",
    "    '''Prints argument that was sent in.'''\n",
    "    print(\"You sent in: {}\".format(a))\n",
    "\n",
    "    \n",
    "help(print)"
   ]
  },
  {
   "cell_type": "markdown",
   "metadata": {
    "slideshow": {
     "slide_type": "slide"
    }
   },
   "source": [
    "# Variables and Types\n",
    "\n",
    "- No need to declare variable types\n",
    "- Re-assignment of variables is legal in the state of Pythonland\n",
    "- Strongly typed language\n",
    "  - Won't automatically coerce _most_ types\n",
    "    - Number types appear to be an exception"
   ]
  },
  {
   "cell_type": "code",
   "execution_count": 9,
   "metadata": {
    "slideshow": {
     "slide_type": "fragment"
    }
   },
   "outputs": [
    {
     "name": "stdout",
     "output_type": "stream",
     "text": [
      "Apple\n",
      "Applefoo\n"
     ]
    }
   ],
   "source": [
    "a = \"Apple\" # a is a str type\n",
    "#a = 987654321 # Now it is an int type\n",
    "b = \"foo\"\n",
    "\n",
    "print(a) # Prints fine\n",
    "\n",
    "print(a + b) # No print for you!\n"
   ]
  },
  {
   "cell_type": "markdown",
   "metadata": {
    "slideshow": {
     "slide_type": "subslide"
    }
   },
   "source": [
    "# Standard Types\n",
    "\n",
    "- Numbers\n",
    "  - automatically converts between int/float/long/complex\n",
    "  - built-in complex type\n",
    "    - looks like `3+6j`\n",
    "- String\n",
    "  - Unicode for Python 3\n",
    "    - One of the big differences between 2 and 3\n",
    "- List\n",
    "  - Zero based as the gods of computation intended\n",
    "- Tuple\n",
    "  - Immutable\n",
    "- Dictionary\n",
    "  - Which came first the JSON Object or the Python Dictionary? (both have same litteral construction syntax)"
   ]
  },
  {
   "cell_type": "code",
   "execution_count": 10,
   "metadata": {
    "slideshow": {
     "slide_type": "subslide"
    }
   },
   "outputs": [
    {
     "name": "stdout",
     "output_type": "stream",
     "text": [
      "<class 'str'>\n",
      "<class 'int'>\n",
      "<class 'complex'>\n",
      "<class 'list'>\n",
      "<class 'tuple'>\n",
      "<class 'dict'>\n",
      "True\n"
     ]
    }
   ],
   "source": [
    "# find the type of a variable\n",
    "print(type(\"foo\")) # String\n",
    "print(type(101)) # Number (int)\n",
    "print(type(10 + 9j)) # Number (complex)\n",
    "print(type(['foo',404,'bar'])) # List\n",
    "print(type(('x','y',77))) # Tuple\n",
    "print(type({'alice': 37, 'bob': 52, 'carol': 19})) # Dictionary\n",
    "\n",
    "# check type\n",
    "print(type('This is a String')   str)"
   ]
  },
  {
   "cell_type": "markdown",
   "metadata": {
    "slideshow": {
     "slide_type": "slide"
    }
   },
   "source": [
    "# Functions and Methods\n",
    "\n",
    "- Can declare defaults for arguments\n",
    "- Can name arguments\n",
    "- Can have variable arguments via `**kwargs` and `*args`\n",
    "- Can return multiple values (converted to a Tuple)\n",
    "- Polymorphism\n",
    "  - Subclassed methods CAN override parent\n",
    "  - Illegal to define a function/method with same name and different arguments (no overloading)\n",
    "    - use defaults and named arguments instead"
   ]
  },
  {
   "cell_type": "code",
   "execution_count": 21,
   "metadata": {
    "slideshow": {
     "slide_type": "fragment"
    }
   },
   "outputs": [
    {
     "name": "stdout",
     "output_type": "stream",
     "text": [
      "<class 'str'>\n",
      "Hello alice who is 21 years old.\n"
     ]
    }
   ],
   "source": [
    "def howdy(name , age=21):\n",
    "\n",
    "    print(type(name))\n",
    "    print(\"Hello {} who is {} years old.\".format(name, age))\n",
    "    \n",
    "    \n",
    "howdy(\"alice\")\n",
    "#howdy(\"Bob\", 42)\n",
    "#howdy(age=63, name=\"Carol\")"
   ]
  },
  {
   "cell_type": "markdown",
   "metadata": {
    "slideshow": {
     "slide_type": "slide"
    }
   },
   "source": [
    "# Classes\n",
    "\n",
    "- Methods take `self` as first argument\n",
    "- Multiple inheritance\n",
    "  - Search is from child -> parent in left -> right order\n",
    "- No private instance variables\n",
    "  - By convention prefix variables with `_` to indicate private\n",
    "- Private class members via `__`\n",
    "  - Not truly private. Uses name mangling to rename the member.\n",
    "- Constructor via special `__init__` method\n",
    "  "
   ]
  },
  {
   "cell_type": "code",
   "execution_count": 25,
   "metadata": {
    "slideshow": {
     "slide_type": "subslide"
    }
   },
   "outputs": [
    {
     "name": "stdout",
     "output_type": "stream",
     "text": [
      "opening door 1 of 2\n",
      "no such door: 5 at most 4\n"
     ]
    }
   ],
   "source": [
    "class Car:\n",
    "    def __init__(self):\n",
    "        self._doors = 2\n",
    "        \n",
    "    def open_door(self,door_number):\n",
    "        if self._doors < door_number:\n",
    "            print(\"no such door: {} at most {}\".format(door_number, self._doors))\n",
    "        else:\n",
    "            print(\"opening door {} of {}\".format(door_number, self._doors))\n",
    "        \n",
    "class Sedan(Car):\n",
    "    def __init__(self, num_doors):\n",
    "        self._doors = num_doors\n",
    "        \n",
    "c = Car()\n",
    "c.open_door(1)\n",
    "\n",
    "s = Sedan(4)\n",
    "s.open_door(5)\n",
    "        "
   ]
  },
  {
   "cell_type": "markdown",
   "metadata": {
    "slideshow": {
     "slide_type": "slide"
    }
   },
   "source": [
    "# Libraries and Modules\n",
    "- Rich standard library\n",
    "  - https://docs.python.org/3/library/\n",
    "- Use pipenv / Pipfile to specify version and what 3rd party libs are available\n",
    "- Presense of an `__init__.py` file indicates that a directory is a module\n",
    "  - `__init__.py` is executed on module load\n",
    "- Don't _have_ to put all import statements at top of file but a good idea\n",
    "- Modules are the main 'grouping' mechanism in Python\n",
    "- There is a thing called a package which is a sort of special module which is a grouping of Modules\n",
    "  - Haven't run across a need to distinguish a 'package' module. Expect this is an advanced topic"
   ]
  },
  {
   "cell_type": "code",
   "execution_count": null,
   "metadata": {
    "slideshow": {
     "slide_type": "fragment"
    }
   },
   "outputs": [],
   "source": [
    "from math import gcd  \n",
    "\n",
    "print(gcd(14,21))"
   ]
  },
  {
   "cell_type": "markdown",
   "metadata": {
    "slideshow": {
     "slide_type": "slide"
    }
   },
   "source": [
    "# Where to go from here\n",
    "- Jupyter Notebooks\n",
    "  - https://jupyter.org/\n",
    "  - Tool used to create this presentation\n",
    "- Python Data Science Handbook\n",
    "  - https://jakevdp.github.io/PythonDataScienceHandbook/\n",
    "  - ML, slicing and dicing data\n",
    "- DJango Web Development Framework\n",
    "  - https://www.djangoproject.com/\n",
    "  - Big daddy of Python Web frameworks\n"
   ]
  },
  {
   "cell_type": "markdown",
   "metadata": {
    "slideshow": {
     "slide_type": "slide"
    }
   },
   "source": [
    "# Other Learning Resources\n",
    "\n",
    "- Derek Banas 2019 Python youtube tutorial (personally recommend) https://www.youtube.com/watch?v=H1elmMBnykA\n",
    "- Udemy Python Bootcamp course (4.5 stars, 800k+ enolled) https://www.udemy.com/course/complete-python-bootcamp/?LSNPUBID=jU79Zysihs4\n",
    "- Python Crash Course book (#1 on Amazon for Python Programming) https://www.amazon.com/Python-Crash-Course-2nd-Edition/dp/1593279280"
   ]
  },
  {
   "cell_type": "markdown",
   "metadata": {
    "slideshow": {
     "slide_type": "slide"
    }
   },
   "source": [
    "# Thanks!\n",
    "\n",
    "More of my ramblings and shameless self-promotion:\n",
    "\n",
    "- web: http://www.matthewjosephtaylor.com\n",
    "  - Technical blog where I have fun deconstructing programming languages and other nerdy things like that.  \n",
    "- twitter: [@matt_taylor](https://twitter.com/matt_taylor)\n",
    "  - Slightly more frequent and but much shorter outbursts on things technical and mundane.\n"
   ]
  }
 ],
 "metadata": {
  "celltoolbar": "Slideshow",
  "kernelspec": {
   "display_name": "Python 3",
   "language": "python",
   "name": "python3"
  },
  "language_info": {
   "codemirror_mode": {
    "name": "ipython",
    "version": 3
   },
   "file_extension": ".py",
   "mimetype": "text/x-python",
   "name": "python",
   "nbconvert_exporter": "python",
   "pygments_lexer": "ipython3",
   "version": "3.7.6"
  }
 },
 "nbformat": 4,
 "nbformat_minor": 4
}
